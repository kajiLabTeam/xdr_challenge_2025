{
 "cells": [
  {
   "cell_type": "code",
   "execution_count": 1,
   "id": "51464771",
   "metadata": {},
   "outputs": [],
   "source": [
    "from src.lib.mapmatching import MapMatching\n",
    "from src.lib.visualizer import Visualizer\n",
    "from src.type import PositionWithTimestamp\n",
    "from logging import getLogger\n",
    "import time"
   ]
  },
  {
   "cell_type": "code",
   "execution_count": 2,
   "id": "ec9f1aee",
   "metadata": {},
   "outputs": [],
   "source": [
    "logger = getLogger(__name__)\n",
    "\n",
    "map_matching = MapMatching(\"UNUSED\", logger)\n",
    "visualizer = Visualizer(\"UNUSED\", logger)"
   ]
  },
  {
   "cell_type": "code",
   "execution_count": null,
   "id": "050999c9",
   "metadata": {},
   "outputs": [
    {
     "ename": "TypeError",
     "evalue": "PositionWithTimestamp.__new__() missing 1 required positional argument: 'z'",
     "output_type": "error",
     "traceback": [
      "\u001b[31m---------------------------------------------------------------------------\u001b[39m",
      "\u001b[31mTypeError\u001b[39m                                 Traceback (most recent call last)",
      "\u001b[36mCell\u001b[39m\u001b[36m \u001b[39m\u001b[32mIn[3]\u001b[39m\u001b[32m, line 2\u001b[39m\n\u001b[32m      1\u001b[39m points: \u001b[38;5;28mlist\u001b[39m[PositionWithTimestamp] = [\n\u001b[32m----> \u001b[39m\u001b[32m2\u001b[39m     \u001b[43mPositionWithTimestamp\u001b[49m\u001b[43m(\u001b[49m\u001b[32;43m22.01\u001b[39;49m\u001b[43m,\u001b[49m\u001b[43m \u001b[49m\u001b[43m-\u001b[49m\u001b[32;43m1.16\u001b[39;49m\u001b[43m,\u001b[49m\u001b[43m \u001b[49m\u001b[32;43m0\u001b[39;49m\u001b[43m)\u001b[49m,\n\u001b[32m      3\u001b[39m     PositionWithTimestamp(\u001b[32m22.00\u001b[39m, -\u001b[32m1.66\u001b[39m, \u001b[32m0\u001b[39m),\n\u001b[32m      4\u001b[39m     PositionWithTimestamp(\u001b[32m21.80\u001b[39m, -\u001b[32m2.16\u001b[39m, \u001b[32m0\u001b[39m),\n\u001b[32m      5\u001b[39m     PositionWithTimestamp(\u001b[32m21.60\u001b[39m, -\u001b[32m2.66\u001b[39m, \u001b[32m0\u001b[39m),\n\u001b[32m      6\u001b[39m     PositionWithTimestamp(\u001b[32m21.40\u001b[39m, -\u001b[32m3.16\u001b[39m, \u001b[32m0\u001b[39m),\n\u001b[32m      7\u001b[39m     PositionWithTimestamp(\u001b[32m21.20\u001b[39m, -\u001b[32m3.66\u001b[39m, \u001b[32m0\u001b[39m),\n\u001b[32m      8\u001b[39m     PositionWithTimestamp(\u001b[32m21.00\u001b[39m, -\u001b[32m4.16\u001b[39m, \u001b[32m0\u001b[39m),\n\u001b[32m      9\u001b[39m     PositionWithTimestamp(\u001b[32m20.80\u001b[39m, -\u001b[32m4.66\u001b[39m, \u001b[32m0\u001b[39m),\n\u001b[32m     10\u001b[39m     PositionWithTimestamp(\u001b[32m20.60\u001b[39m, -\u001b[32m5.16\u001b[39m, \u001b[32m0\u001b[39m),\n\u001b[32m     11\u001b[39m     PositionWithTimestamp(\u001b[32m20.40\u001b[39m, -\u001b[32m5.66\u001b[39m, \u001b[32m0\u001b[39m),\n\u001b[32m     12\u001b[39m     PositionWithTimestamp(\u001b[32m20.20\u001b[39m, -\u001b[32m6.16\u001b[39m, \u001b[32m0\u001b[39m),\n\u001b[32m     13\u001b[39m     PositionWithTimestamp(\u001b[32m20.00\u001b[39m, -\u001b[32m6.66\u001b[39m, \u001b[32m0\u001b[39m),\n\u001b[32m     14\u001b[39m     PositionWithTimestamp(\u001b[32m19.80\u001b[39m, -\u001b[32m7.16\u001b[39m, \u001b[32m0\u001b[39m),\n\u001b[32m     15\u001b[39m     PositionWithTimestamp(\u001b[32m19.60\u001b[39m, -\u001b[32m7.66\u001b[39m, \u001b[32m0\u001b[39m),\n\u001b[32m     16\u001b[39m     PositionWithTimestamp(\u001b[32m19.40\u001b[39m, -\u001b[32m8.16\u001b[39m, \u001b[32m0\u001b[39m),\n\u001b[32m     17\u001b[39m     PositionWithTimestamp(\u001b[32m19.20\u001b[39m, -\u001b[32m8.66\u001b[39m, \u001b[32m0\u001b[39m),\n\u001b[32m     18\u001b[39m     PositionWithTimestamp(\u001b[32m19.00\u001b[39m, -\u001b[32m9.16\u001b[39m, \u001b[32m0\u001b[39m),\n\u001b[32m     19\u001b[39m ]\n\u001b[32m     21\u001b[39m datetime = time.strftime(\u001b[33m\"\u001b[39m\u001b[33m%\u001b[39m\u001b[33mY\u001b[39m\u001b[33m%\u001b[39m\u001b[33mm\u001b[39m\u001b[38;5;132;01m%d\u001b[39;00m\u001b[33m_\u001b[39m\u001b[33m%\u001b[39m\u001b[33mH\u001b[39m\u001b[33m%\u001b[39m\u001b[33mM\u001b[39m\u001b[33m%\u001b[39m\u001b[33mS\u001b[39m\u001b[33m\"\u001b[39m)\n\u001b[32m     22\u001b[39m visualizer.plot_map_for_mapmatching(points, \u001b[33mf\u001b[39m\u001b[33m\"\u001b[39m\u001b[33mzzz/\u001b[39m\u001b[38;5;132;01m{\u001b[39;00mdatetime\u001b[38;5;132;01m}\u001b[39;00m\u001b[33m.png\u001b[39m\u001b[33m\"\u001b[39m)\n",
      "\u001b[31mTypeError\u001b[39m: PositionWithTimestamp.__new__() missing 1 required positional argument: 'z'"
     ]
    }
   ],
   "source": [
    "points: list[PositionWithTimestamp] = [\n",
    "    PositionWithTimestamp(22.01, -1.16, 0, 0.0),\n",
    "    PositionWithTimestamp(22.00, -1.66, 0, 0.5),\n",
    "    PositionWithTimestamp(21.80, -2.16, 0, 1.0),\n",
    "    PositionWithTimestamp(21.60, -2.66, 0, 1.5),\n",
    "    PositionWithTimestamp(21.40, -3.16, 0, 2.0),\n",
    "    PositionWithTimestamp(21.20, -3.66, 0, 2.5),\n",
    "    PositionWithTimestamp(21.00, -4.16, 0, 3.0),\n",
    "    PositionWithTimestamp(20.80, -4.66, 0, 3.5),\n",
    "    PositionWithTimestamp(20.60, -5.16, 0, 4.0),\n",
    "    PositionWithTimestamp(20.40, -5.66, 0, 4.5),\n",
    "    PositionWithTimestamp(20.20, -6.16, 0, 5.0),\n",
    "    PositionWithTimestamp(20.00, -6.66, 0, 5.5),\n",
    "    PositionWithTimestamp(19.80, -7.16, 0, 6.0),\n",
    "    PositionWithTimestamp(19.60, -7.66, 0, 6.5),\n",
    "    PositionWithTimestamp(19.40, -8.16, 0, 7.0),\n",
    "    PositionWithTimestamp(19.20, -8.66, 0, 7.5),\n",
    "    PositionWithTimestamp(19.00, -9.16, 0, 8.0),\n",
    "]\n",
    "\n",
    "datetime = time.strftime(\"%Y%m%d_%H%M%S\")\n",
    "visualizer.plot_map_for_mapmatching(points, f\"zzz/{datetime}.png\")"
   ]
  }
 ],
 "metadata": {
  "kernelspec": {
   "display_name": ".venv (3.12.10)",
   "language": "python",
   "name": "python3"
  },
  "language_info": {
   "codemirror_mode": {
    "name": "ipython",
    "version": 3
   },
   "file_extension": ".py",
   "mimetype": "text/x-python",
   "name": "python",
   "nbconvert_exporter": "python",
   "pygments_lexer": "ipython3",
   "version": "3.12.10"
  }
 },
 "nbformat": 4,
 "nbformat_minor": 5
}
